{
 "cells": [
  {
   "cell_type": "code",
   "execution_count": 1,
   "id": "c780eafa-eba0-49da-94f7-723f04530361",
   "metadata": {},
   "outputs": [],
   "source": [
    "import pandas as pd\n",
    "import seaborn as sbs\n",
    "import matplotlib.pyplot as plt"
   ]
  },
  {
   "cell_type": "markdown",
   "id": "4e2dde0d-4de9-435e-a5b2-3ae64e3a370a",
   "metadata": {},
   "source": [
    "Carregando o Dataset de vendas (obtido no Kaggle) e plotando seu cabeçalho."
   ]
  },
  {
   "cell_type": "code",
   "execution_count": 2,
   "id": "dfdf3e83-2048-47a3-9502-7069d3929385",
   "metadata": {},
   "outputs": [
    {
     "data": {
      "text/html": [
       "<div>\n",
       "<style scoped>\n",
       "    .dataframe tbody tr th:only-of-type {\n",
       "        vertical-align: middle;\n",
       "    }\n",
       "\n",
       "    .dataframe tbody tr th {\n",
       "        vertical-align: top;\n",
       "    }\n",
       "\n",
       "    .dataframe thead th {\n",
       "        text-align: right;\n",
       "    }\n",
       "</style>\n",
       "<table border=\"1\" class=\"dataframe\">\n",
       "  <thead>\n",
       "    <tr style=\"text-align: right;\">\n",
       "      <th></th>\n",
       "      <th>Date</th>\n",
       "      <th>SKU</th>\n",
       "      <th>Group</th>\n",
       "      <th>Units_pkg</th>\n",
       "      <th>Avg_price_pkg</th>\n",
       "      <th>Sales_pkg</th>\n",
       "    </tr>\n",
       "  </thead>\n",
       "  <tbody>\n",
       "    <tr>\n",
       "      <th>0</th>\n",
       "      <td>201801</td>\n",
       "      <td>SKU_01</td>\n",
       "      <td>A</td>\n",
       "      <td>13</td>\n",
       "      <td>5</td>\n",
       "      <td>879</td>\n",
       "    </tr>\n",
       "    <tr>\n",
       "      <th>1</th>\n",
       "      <td>201801</td>\n",
       "      <td>SKU_02</td>\n",
       "      <td>B</td>\n",
       "      <td>7</td>\n",
       "      <td>7</td>\n",
       "      <td>8</td>\n",
       "    </tr>\n",
       "    <tr>\n",
       "      <th>2</th>\n",
       "      <td>201801</td>\n",
       "      <td>SKU_03</td>\n",
       "      <td>B</td>\n",
       "      <td>7</td>\n",
       "      <td>6</td>\n",
       "      <td>197</td>\n",
       "    </tr>\n",
       "    <tr>\n",
       "      <th>3</th>\n",
       "      <td>201801</td>\n",
       "      <td>SKU_04</td>\n",
       "      <td>C</td>\n",
       "      <td>4</td>\n",
       "      <td>6</td>\n",
       "      <td>1</td>\n",
       "    </tr>\n",
       "    <tr>\n",
       "      <th>4</th>\n",
       "      <td>201801</td>\n",
       "      <td>SKU_05</td>\n",
       "      <td>C</td>\n",
       "      <td>6</td>\n",
       "      <td>8</td>\n",
       "      <td>1</td>\n",
       "    </tr>\n",
       "  </tbody>\n",
       "</table>\n",
       "</div>"
      ],
      "text/plain": [
       "     Date     SKU Group  Units_pkg  Avg_price_pkg  Sales_pkg\n",
       "0  201801  SKU_01     A         13              5        879\n",
       "1  201801  SKU_02     B          7              7          8\n",
       "2  201801  SKU_03     B          7              6        197\n",
       "3  201801  SKU_04     C          4              6          1\n",
       "4  201801  SKU_05     C          6              8          1"
      ]
     },
     "execution_count": 2,
     "metadata": {},
     "output_type": "execute_result"
    }
   ],
   "source": [
    "df = pd.read_csv(\"archive (1)/sales_1.csv\")\n",
    "df.head()"
   ]
  },
  {
   "cell_type": "code",
   "execution_count": 3,
   "id": "8f9ce102-6183-4e6c-b55e-380b30bef782",
   "metadata": {},
   "outputs": [
    {
     "data": {
      "text/html": [
       "<div>\n",
       "<style scoped>\n",
       "    .dataframe tbody tr th:only-of-type {\n",
       "        vertical-align: middle;\n",
       "    }\n",
       "\n",
       "    .dataframe tbody tr th {\n",
       "        vertical-align: top;\n",
       "    }\n",
       "\n",
       "    .dataframe thead th {\n",
       "        text-align: right;\n",
       "    }\n",
       "</style>\n",
       "<table border=\"1\" class=\"dataframe\">\n",
       "  <thead>\n",
       "    <tr style=\"text-align: right;\">\n",
       "      <th></th>\n",
       "      <th>Date</th>\n",
       "      <th>Units_pkg</th>\n",
       "      <th>Avg_price_pkg</th>\n",
       "      <th>Sales_pkg</th>\n",
       "    </tr>\n",
       "  </thead>\n",
       "  <tbody>\n",
       "    <tr>\n",
       "      <th>count</th>\n",
       "      <td>4138.000000</td>\n",
       "      <td>4138.000000</td>\n",
       "      <td>4138.000000</td>\n",
       "      <td>4138.000000</td>\n",
       "    </tr>\n",
       "    <tr>\n",
       "      <th>mean</th>\n",
       "      <td>202015.618173</td>\n",
       "      <td>12.881344</td>\n",
       "      <td>9.138231</td>\n",
       "      <td>335.733446</td>\n",
       "    </tr>\n",
       "    <tr>\n",
       "      <th>std</th>\n",
       "      <td>142.616710</td>\n",
       "      <td>22.024843</td>\n",
       "      <td>3.551443</td>\n",
       "      <td>419.834537</td>\n",
       "    </tr>\n",
       "    <tr>\n",
       "      <th>min</th>\n",
       "      <td>201801.000000</td>\n",
       "      <td>0.000000</td>\n",
       "      <td>2.000000</td>\n",
       "      <td>0.000000</td>\n",
       "    </tr>\n",
       "    <tr>\n",
       "      <th>25%</th>\n",
       "      <td>201905.000000</td>\n",
       "      <td>5.000000</td>\n",
       "      <td>7.000000</td>\n",
       "      <td>65.000000</td>\n",
       "    </tr>\n",
       "    <tr>\n",
       "      <th>50%</th>\n",
       "      <td>202008.000000</td>\n",
       "      <td>5.000000</td>\n",
       "      <td>9.000000</td>\n",
       "      <td>180.000000</td>\n",
       "    </tr>\n",
       "    <tr>\n",
       "      <th>75%</th>\n",
       "      <td>202111.000000</td>\n",
       "      <td>7.000000</td>\n",
       "      <td>11.000000</td>\n",
       "      <td>436.750000</td>\n",
       "    </tr>\n",
       "    <tr>\n",
       "      <th>max</th>\n",
       "      <td>202212.000000</td>\n",
       "      <td>100.000000</td>\n",
       "      <td>26.000000</td>\n",
       "      <td>3364.000000</td>\n",
       "    </tr>\n",
       "  </tbody>\n",
       "</table>\n",
       "</div>"
      ],
      "text/plain": [
       "                Date    Units_pkg  Avg_price_pkg    Sales_pkg\n",
       "count    4138.000000  4138.000000    4138.000000  4138.000000\n",
       "mean   202015.618173    12.881344       9.138231   335.733446\n",
       "std       142.616710    22.024843       3.551443   419.834537\n",
       "min    201801.000000     0.000000       2.000000     0.000000\n",
       "25%    201905.000000     5.000000       7.000000    65.000000\n",
       "50%    202008.000000     5.000000       9.000000   180.000000\n",
       "75%    202111.000000     7.000000      11.000000   436.750000\n",
       "max    202212.000000   100.000000      26.000000  3364.000000"
      ]
     },
     "execution_count": 3,
     "metadata": {},
     "output_type": "execute_result"
    }
   ],
   "source": [
    "df.describe()"
   ]
  },
  {
   "cell_type": "code",
   "execution_count": 4,
   "id": "8962b954-115f-4a57-9be1-5c810c120a7b",
   "metadata": {},
   "outputs": [
    {
     "data": {
      "text/plain": [
       "(4138, 6)"
      ]
     },
     "execution_count": 4,
     "metadata": {},
     "output_type": "execute_result"
    }
   ],
   "source": [
    "df.shape"
   ]
  },
  {
   "cell_type": "markdown",
   "id": "3e93c62d-eb4d-4178-8af3-1fa0af853637",
   "metadata": {},
   "source": [
    "Encontrando a linha com record de vendas e visualizando seu conteudo. Podemos observar que o record foi em janeiro de 2018 vendendo 3364 pacotes do produtos SKU_07"
   ]
  },
  {
   "cell_type": "code",
   "execution_count": 5,
   "id": "966da60a-7028-4eed-a3b5-1c91b7babeff",
   "metadata": {},
   "outputs": [
    {
     "data": {
      "text/plain": [
       "6"
      ]
     },
     "execution_count": 5,
     "metadata": {},
     "output_type": "execute_result"
    }
   ],
   "source": [
    "df.Sales_pkg.idxmax()"
   ]
  },
  {
   "cell_type": "code",
   "execution_count": 6,
   "id": "80afffde-4686-424a-9725-63efa844cc4b",
   "metadata": {},
   "outputs": [
    {
     "data": {
      "text/plain": [
       "Date             201801\n",
       "SKU              SKU_07\n",
       "Group                 D\n",
       "Units_pkg             6\n",
       "Avg_price_pkg         9\n",
       "Sales_pkg          3364\n",
       "Name: 6, dtype: object"
      ]
     },
     "execution_count": 6,
     "metadata": {},
     "output_type": "execute_result"
    }
   ],
   "source": [
    "df.iloc[6]"
   ]
  },
  {
   "cell_type": "markdown",
   "id": "a9c23b54-427a-471c-9f11-f0553c6cf100",
   "metadata": {},
   "source": [
    "Abaixo calculamos qual o produto mais vendido no total, que também foi o SKU_07, vendendo um total de 114243 pacotes desse produto."
   ]
  },
  {
   "cell_type": "code",
   "execution_count": 7,
   "id": "56ba2279-5c98-419a-8371-57801343c4b4",
   "metadata": {},
   "outputs": [
    {
     "data": {
      "text/plain": [
       "['SKU_07', 114243]"
      ]
     },
     "execution_count": 7,
     "metadata": {},
     "output_type": "execute_result"
    }
   ],
   "source": [
    "mx = [0,0]\n",
    "for i in set(df.SKU):\n",
    "    val = df[df.SKU==i].Sales_pkg.sum()\n",
    "    if val > mx[1]:\n",
    "        mx[0] = i\n",
    "        mx[1] = val\n",
    "mx"
   ]
  },
  {
   "cell_type": "markdown",
   "id": "504414c7-174a-4eda-b66c-96258c97a262",
   "metadata": {},
   "source": [
    "Iremos analisar as vendas mensais de 2018, para isso descobrir o index do primeiro mes de 2019. Com esse index em mãos podemos plotar um resumo dos dados ate a linha. "
   ]
  },
  {
   "cell_type": "code",
   "execution_count": 8,
   "id": "aba9b241-2027-423c-bfaf-712ea3795099",
   "metadata": {},
   "outputs": [
    {
     "data": {
      "text/html": [
       "<div>\n",
       "<style scoped>\n",
       "    .dataframe tbody tr th:only-of-type {\n",
       "        vertical-align: middle;\n",
       "    }\n",
       "\n",
       "    .dataframe tbody tr th {\n",
       "        vertical-align: top;\n",
       "    }\n",
       "\n",
       "    .dataframe thead th {\n",
       "        text-align: right;\n",
       "    }\n",
       "</style>\n",
       "<table border=\"1\" class=\"dataframe\">\n",
       "  <thead>\n",
       "    <tr style=\"text-align: right;\">\n",
       "      <th></th>\n",
       "      <th>Date</th>\n",
       "      <th>SKU</th>\n",
       "      <th>Group</th>\n",
       "      <th>Units_pkg</th>\n",
       "      <th>Avg_price_pkg</th>\n",
       "      <th>Sales_pkg</th>\n",
       "    </tr>\n",
       "  </thead>\n",
       "  <tbody>\n",
       "    <tr>\n",
       "      <th>751</th>\n",
       "      <td>201901</td>\n",
       "      <td>SKU_03</td>\n",
       "      <td>B</td>\n",
       "      <td>7</td>\n",
       "      <td>6</td>\n",
       "      <td>6</td>\n",
       "    </tr>\n",
       "    <tr>\n",
       "      <th>752</th>\n",
       "      <td>201901</td>\n",
       "      <td>SKU_05</td>\n",
       "      <td>C</td>\n",
       "      <td>6</td>\n",
       "      <td>8</td>\n",
       "      <td>8</td>\n",
       "    </tr>\n",
       "    <tr>\n",
       "      <th>753</th>\n",
       "      <td>201901</td>\n",
       "      <td>SKU_53</td>\n",
       "      <td>C</td>\n",
       "      <td>6</td>\n",
       "      <td>8</td>\n",
       "      <td>28</td>\n",
       "    </tr>\n",
       "    <tr>\n",
       "      <th>754</th>\n",
       "      <td>201901</td>\n",
       "      <td>SKU_54</td>\n",
       "      <td>C</td>\n",
       "      <td>5</td>\n",
       "      <td>8</td>\n",
       "      <td>34</td>\n",
       "    </tr>\n",
       "    <tr>\n",
       "      <th>755</th>\n",
       "      <td>201901</td>\n",
       "      <td>SKU_07</td>\n",
       "      <td>D</td>\n",
       "      <td>6</td>\n",
       "      <td>9</td>\n",
       "      <td>2703</td>\n",
       "    </tr>\n",
       "    <tr>\n",
       "      <th>...</th>\n",
       "      <td>...</td>\n",
       "      <td>...</td>\n",
       "      <td>...</td>\n",
       "      <td>...</td>\n",
       "      <td>...</td>\n",
       "      <td>...</td>\n",
       "    </tr>\n",
       "    <tr>\n",
       "      <th>811</th>\n",
       "      <td>201901</td>\n",
       "      <td>SKU_68</td>\n",
       "      <td>M</td>\n",
       "      <td>40</td>\n",
       "      <td>8</td>\n",
       "      <td>11</td>\n",
       "    </tr>\n",
       "    <tr>\n",
       "      <th>812</th>\n",
       "      <td>201901</td>\n",
       "      <td>SKU_65</td>\n",
       "      <td>M</td>\n",
       "      <td>80</td>\n",
       "      <td>11</td>\n",
       "      <td>44</td>\n",
       "    </tr>\n",
       "    <tr>\n",
       "      <th>813</th>\n",
       "      <td>201901</td>\n",
       "      <td>SKU_51</td>\n",
       "      <td>N</td>\n",
       "      <td>100</td>\n",
       "      <td>6</td>\n",
       "      <td>502</td>\n",
       "    </tr>\n",
       "    <tr>\n",
       "      <th>814</th>\n",
       "      <td>201901</td>\n",
       "      <td>SKU_52</td>\n",
       "      <td>N</td>\n",
       "      <td>100</td>\n",
       "      <td>5</td>\n",
       "      <td>495</td>\n",
       "    </tr>\n",
       "    <tr>\n",
       "      <th>815</th>\n",
       "      <td>201901</td>\n",
       "      <td>SKU_55</td>\n",
       "      <td>N</td>\n",
       "      <td>50</td>\n",
       "      <td>3</td>\n",
       "      <td>96</td>\n",
       "    </tr>\n",
       "  </tbody>\n",
       "</table>\n",
       "<p>65 rows × 6 columns</p>\n",
       "</div>"
      ],
      "text/plain": [
       "       Date     SKU Group  Units_pkg  Avg_price_pkg  Sales_pkg\n",
       "751  201901  SKU_03     B          7              6          6\n",
       "752  201901  SKU_05     C          6              8          8\n",
       "753  201901  SKU_53     C          6              8         28\n",
       "754  201901  SKU_54     C          5              8         34\n",
       "755  201901  SKU_07     D          6              9       2703\n",
       "..      ...     ...   ...        ...            ...        ...\n",
       "811  201901  SKU_68     M         40              8         11\n",
       "812  201901  SKU_65     M         80             11         44\n",
       "813  201901  SKU_51     N        100              6        502\n",
       "814  201901  SKU_52     N        100              5        495\n",
       "815  201901  SKU_55     N         50              3         96\n",
       "\n",
       "[65 rows x 6 columns]"
      ]
     },
     "execution_count": 8,
     "metadata": {},
     "output_type": "execute_result"
    }
   ],
   "source": [
    "df[df.Date==201901]"
   ]
  },
  {
   "cell_type": "code",
   "execution_count": 9,
   "id": "e028538a-9e56-47c0-8867-e1ecd23407aa",
   "metadata": {},
   "outputs": [
    {
     "data": {
      "text/html": [
       "<div>\n",
       "<style scoped>\n",
       "    .dataframe tbody tr th:only-of-type {\n",
       "        vertical-align: middle;\n",
       "    }\n",
       "\n",
       "    .dataframe tbody tr th {\n",
       "        vertical-align: top;\n",
       "    }\n",
       "\n",
       "    .dataframe thead th {\n",
       "        text-align: right;\n",
       "    }\n",
       "</style>\n",
       "<table border=\"1\" class=\"dataframe\">\n",
       "  <thead>\n",
       "    <tr style=\"text-align: right;\">\n",
       "      <th></th>\n",
       "      <th>Date</th>\n",
       "      <th>Units_pkg</th>\n",
       "      <th>Avg_price_pkg</th>\n",
       "      <th>Sales_pkg</th>\n",
       "    </tr>\n",
       "  </thead>\n",
       "  <tbody>\n",
       "    <tr>\n",
       "      <th>count</th>\n",
       "      <td>751.000000</td>\n",
       "      <td>751.000000</td>\n",
       "      <td>751.000000</td>\n",
       "      <td>751.000000</td>\n",
       "    </tr>\n",
       "    <tr>\n",
       "      <th>mean</th>\n",
       "      <td>201806.784288</td>\n",
       "      <td>12.083888</td>\n",
       "      <td>8.564581</td>\n",
       "      <td>268.037284</td>\n",
       "    </tr>\n",
       "    <tr>\n",
       "      <th>std</th>\n",
       "      <td>3.386061</td>\n",
       "      <td>20.247328</td>\n",
       "      <td>2.817237</td>\n",
       "      <td>403.413745</td>\n",
       "    </tr>\n",
       "    <tr>\n",
       "      <th>min</th>\n",
       "      <td>201801.000000</td>\n",
       "      <td>2.000000</td>\n",
       "      <td>3.000000</td>\n",
       "      <td>0.000000</td>\n",
       "    </tr>\n",
       "    <tr>\n",
       "      <th>25%</th>\n",
       "      <td>201804.000000</td>\n",
       "      <td>5.000000</td>\n",
       "      <td>7.000000</td>\n",
       "      <td>44.000000</td>\n",
       "    </tr>\n",
       "    <tr>\n",
       "      <th>50%</th>\n",
       "      <td>201807.000000</td>\n",
       "      <td>6.000000</td>\n",
       "      <td>8.000000</td>\n",
       "      <td>129.000000</td>\n",
       "    </tr>\n",
       "    <tr>\n",
       "      <th>75%</th>\n",
       "      <td>201810.000000</td>\n",
       "      <td>7.000000</td>\n",
       "      <td>11.000000</td>\n",
       "      <td>324.500000</td>\n",
       "    </tr>\n",
       "    <tr>\n",
       "      <th>max</th>\n",
       "      <td>201812.000000</td>\n",
       "      <td>100.000000</td>\n",
       "      <td>15.000000</td>\n",
       "      <td>3364.000000</td>\n",
       "    </tr>\n",
       "  </tbody>\n",
       "</table>\n",
       "</div>"
      ],
      "text/plain": [
       "                Date   Units_pkg  Avg_price_pkg    Sales_pkg\n",
       "count     751.000000  751.000000     751.000000   751.000000\n",
       "mean   201806.784288   12.083888       8.564581   268.037284\n",
       "std         3.386061   20.247328       2.817237   403.413745\n",
       "min    201801.000000    2.000000       3.000000     0.000000\n",
       "25%    201804.000000    5.000000       7.000000    44.000000\n",
       "50%    201807.000000    6.000000       8.000000   129.000000\n",
       "75%    201810.000000    7.000000      11.000000   324.500000\n",
       "max    201812.000000  100.000000      15.000000  3364.000000"
      ]
     },
     "execution_count": 9,
     "metadata": {},
     "output_type": "execute_result"
    }
   ],
   "source": [
    "df.loc[:750].describe()"
   ]
  },
  {
   "cell_type": "markdown",
   "id": "a36b6779-8796-4a48-b422-bf367a3a1141",
   "metadata": {},
   "source": [
    "Já com a ideia geral dos dados podemos começar nossa exploração, neste documentos limitaremos ao numero de vendas por mes, mas poderia ser analisado o número de vendas mensais de cada produuto, ou a variança do número de vendas de um produto a cada mês."
   ]
  },
  {
   "cell_type": "code",
   "execution_count": 10,
   "id": "48f236be-a082-42ba-ae15-befaf475b370",
   "metadata": {},
   "outputs": [],
   "source": [
    "l = list()\n",
    "for i in range(201801, 201813):\n",
    "    l.append(df[df.Date==i].Sales_pkg.sum())"
   ]
  },
  {
   "cell_type": "code",
   "execution_count": 11,
   "id": "3ccbe6ae-13d0-415c-ac8a-4347d375097d",
   "metadata": {},
   "outputs": [
    {
     "data": {
      "image/png": "[encoded data removed]",
      "text/plain": [
       "<Figure size 432x288 with 1 Axes>"
      ]
     },
     "metadata": {
      "needs_background": "light"
     },
     "output_type": "display_data"
    }
   ],
   "source": [
    "plt.bar(range(1,13),l)\n",
    "plt.show()"
   ]
  },
  {
   "cell_type": "markdown",
   "id": "8dc7026a-c9d8-4048-936e-05fd82593cdc",
   "metadata": {},
   "source": [
    "O grafico abaixo traz a variação do número de vendas em 2018 do produto mais vendido encontrado anteriromente."
   ]
  },
  {
   "cell_type": "code",
   "execution_count": 12,
   "id": "1c510ffc-1f51-4567-b115-39355e1a3d57",
   "metadata": {},
   "outputs": [
    {
     "name": "stderr",
     "output_type": "stream",
     "text": [
      "/tmp/ipykernel_29309/3572556188.py:1: UserWarning: Boolean Series key will be reindexed to match DataFrame index.\n",
      "  plt.plot(range(1,13),df.loc[:750][df.SKU==mx[0]].Sales_pkg)\n"
     ]
    },
    {
     "data": {
      "text/plain": [
       "[<matplotlib.lines.Line2D at 0x7f889d5d5340>]"
      ]
     },
     "execution_count": 12,
     "metadata": {},
     "output_type": "execute_result"
    },
    {
     "data": {
      "image/png": "[encoded data removed]",
      "text/plain": [
       "<Figure size 432x288 with 1 Axes>"
      ]
     },
     "metadata": {
      "needs_background": "light"
     },
     "output_type": "display_data"
    }
   ],
   "source": [
    "plt.plot(range(1,13),df.loc[:750][df.SKU==mx[0]].Sales_pkg)"
   ]
  },
  {
   "cell_type": "code",
   "execution_count": null,
   "id": "62055b1e-22d4-452c-b614-18584a93ab97",
   "metadata": {},
   "outputs": [],
   "source": []
  }
 ],
 "metadata": {
  "kernelspec": {
   "display_name": "Python 3 (ipykernel)",
   "language": "python",
   "name": "python3"
  },
  "language_info": {
   "codemirror_mode": {
    "name": "ipython",
    "version": 3
   },
   "file_extension": ".py",
   "mimetype": "text/x-python",
   "name": "python",
   "nbconvert_exporter": "python",
   "pygments_lexer": "ipython3",
   "version": "3.9.2"
  }
 },
 "nbformat": 4,
 "nbformat_minor": 5
}
